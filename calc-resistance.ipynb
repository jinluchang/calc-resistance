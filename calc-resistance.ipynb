{
 "cells": [
  {
   "cell_type": "code",
   "execution_count": 1,
   "id": "87aa52f1-f0ab-4491-8267-a02786cf4085",
   "metadata": {},
   "outputs": [],
   "source": [
    "import numpy as np"
   ]
  },
  {
   "cell_type": "code",
   "execution_count": 2,
   "id": "627c19d3-6d59-4b75-8ff0-edfcd8e573d8",
   "metadata": {},
   "outputs": [],
   "source": [
    "x_size, y_size = 5, 11\n",
    "a = 0.2"
   ]
  },
  {
   "cell_type": "code",
   "execution_count": 3,
   "id": "bd9fd5c0-ad0c-476f-ad70-47b22ef4a785",
   "metadata": {},
   "outputs": [],
   "source": [
    "# x_size, y_size = 10, 21\n",
    "# a = 0.1"
   ]
  },
  {
   "cell_type": "code",
   "execution_count": 4,
   "id": "1d7a4314-df20-4a06-917f-a5c911c26eaa",
   "metadata": {},
   "outputs": [],
   "source": [
    "# x_size, y_size = 20, 41\n",
    "# a = 0.05"
   ]
  },
  {
   "cell_type": "code",
   "execution_count": 5,
   "id": "0620caf6-cd34-4099-a339-8f22a89daf1d",
   "metadata": {},
   "outputs": [],
   "source": [
    "# x_size, y_size = 40, 81\n",
    "# a = 0.025"
   ]
  },
  {
   "cell_type": "code",
   "execution_count": 6,
   "id": "1a2c8053-ff03-43b6-9df1-d9e64a89f614",
   "metadata": {},
   "outputs": [
    {
     "data": {
      "text/plain": [
       "array([[0. , 0. , 0. , 0. , 0. , 0. , 0. , 0. , 0. , 0. , 0. ],\n",
       "       [0.2, 0.2, 0.2, 0.2, 0.2, 0.2, 0.2, 0.2, 0.2, 0.2, 0.2],\n",
       "       [0.4, 0.4, 0.4, 0.4, 0.4, 0.4, 0.4, 0.4, 0.4, 0.4, 0.4],\n",
       "       [0.6, 0.6, 0.6, 0.6, 0.6, 0.6, 0.6, 0.6, 0.6, 0.6, 0.6],\n",
       "       [0.8, 0.8, 0.8, 0.8, 0.8, 0.8, 0.8, 0.8, 0.8, 0.8, 0.8]])"
      ]
     },
     "metadata": {},
     "output_type": "display_data"
    },
    {
     "data": {
      "text/plain": [
       "array([[0. , 0.2, 0.4, 0.6, 0.8, 1. , 1.2, 1.4, 1.6, 1.8, 2. ],\n",
       "       [0. , 0.2, 0.4, 0.6, 0.8, 1. , 1.2, 1.4, 1.6, 1.8, 2. ],\n",
       "       [0. , 0.2, 0.4, 0.6, 0.8, 1. , 1.2, 1.4, 1.6, 1.8, 2. ],\n",
       "       [0. , 0.2, 0.4, 0.6, 0.8, 1. , 1.2, 1.4, 1.6, 1.8, 2. ],\n",
       "       [0. , 0.2, 0.4, 0.6, 0.8, 1. , 1.2, 1.4, 1.6, 1.8, 2. ]])"
      ]
     },
     "metadata": {},
     "output_type": "display_data"
    }
   ],
   "source": [
    "x_arr = np.arange(x_size)\n",
    "y_arr = np.arange(y_size)\n",
    "grid = np.zeros((x_size, y_size,), dtype=np.float64)\n",
    "x_grid = grid.copy()\n",
    "y_grid = grid.copy()\n",
    "x_grid[x_arr, :] = x_arr[:, None] * a\n",
    "y_grid[:, y_arr] = y_arr * a\n",
    "display(x_grid, y_grid)"
   ]
  },
  {
   "cell_type": "code",
   "execution_count": 7,
   "id": "2d6e9df1-8e4f-4fe6-94d9-af45be44dd9e",
   "metadata": {},
   "outputs": [
    {
     "data": {
      "text/plain": [
       "array([[ True, False, False, False, False, False, False, False, False,\n",
       "        False, False],\n",
       "       [ True, False, False, False, False, False, False, False, False,\n",
       "        False, False],\n",
       "       [ True, False, False, False, False, False, False, False, False,\n",
       "        False, False],\n",
       "       [ True, False, False, False, False, False, False, False, False,\n",
       "        False, False],\n",
       "       [ True, False, False, False, False, False, False, False, False,\n",
       "        False, False]])"
      ]
     },
     "metadata": {},
     "output_type": "display_data"
    },
    {
     "data": {
      "text/plain": [
       "array([[False, False, False, False, False, False, False, False, False,\n",
       "        False,  True],\n",
       "       [False, False, False, False, False, False, False, False, False,\n",
       "        False,  True],\n",
       "       [False, False, False, False, False, False, False, False, False,\n",
       "        False,  True],\n",
       "       [False, False, False, False, False, False, False, False, False,\n",
       "        False,  True],\n",
       "       [False, False, False, False, False, False, False, False, False,\n",
       "        False,  True]])"
      ]
     },
     "metadata": {},
     "output_type": "display_data"
    }
   ],
   "source": [
    "in_set = y_grid == y_grid[0, 0]\n",
    "out_set = y_grid == y_grid[0, -1]\n",
    "display(in_set, out_set)"
   ]
  },
  {
   "cell_type": "code",
   "execution_count": 8,
   "id": "fa19cc00-ac39-4a2c-87a6-46f9026c0f4e",
   "metadata": {},
   "outputs": [
    {
     "data": {
      "text/plain": [
       "array([[0.1, 0.1, 0.1, 0.1, 0.1, 0.1, 0.1, 0.1, 0.1, 0.1, 0.1],\n",
       "       [0.3, 0.3, 0.3, 0.3, 0.3, 0.3, 0.3, 0.3, 0.3, 0.3, 0.3],\n",
       "       [0.5, 0.5, 0.5, 0.5, 0.5, 0.5, 0.5, 0.5, 0.5, 0.5, 0.5],\n",
       "       [0.7, 0.7, 0.7, 0.7, 0.7, 0.7, 0.7, 0.7, 0.7, 0.7, 0.7],\n",
       "       [0.9, 0.9, 0.9, 0.9, 0.9, 0.9, 0.9, 0.9, 0.9, 0.9, 0.9]])"
      ]
     },
     "metadata": {},
     "output_type": "display_data"
    },
    {
     "data": {
      "text/plain": [
       "array([[0. , 0. , 0. , 0. , 0. , 0. , 0. , 0. , 0. , 0. , 0. ],\n",
       "       [0.2, 0.2, 0.2, 0.2, 0.2, 0.2, 0.2, 0.2, 0.2, 0.2, 0.2],\n",
       "       [0.4, 0.4, 0.4, 0.4, 0.4, 0.4, 0.4, 0.4, 0.4, 0.4, 0.4],\n",
       "       [0.6, 0.6, 0.6, 0.6, 0.6, 0.6, 0.6, 0.6, 0.6, 0.6, 0.6],\n",
       "       [0.8, 0.8, 0.8, 0.8, 0.8, 0.8, 0.8, 0.8, 0.8, 0.8, 0.8]])"
      ]
     },
     "metadata": {},
     "output_type": "display_data"
    },
    {
     "data": {
      "text/plain": [
       "array([[0. , 0.2, 0.4, 0.6, 0.8, 1. , 1.2, 1.4, 1.6, 1.8, 2. ],\n",
       "       [0. , 0.2, 0.4, 0.6, 0.8, 1. , 1.2, 1.4, 1.6, 1.8, 2. ],\n",
       "       [0. , 0.2, 0.4, 0.6, 0.8, 1. , 1.2, 1.4, 1.6, 1.8, 2. ],\n",
       "       [0. , 0.2, 0.4, 0.6, 0.8, 1. , 1.2, 1.4, 1.6, 1.8, 2. ],\n",
       "       [0. , 0.2, 0.4, 0.6, 0.8, 1. , 1.2, 1.4, 1.6, 1.8, 2. ]])"
      ]
     },
     "metadata": {},
     "output_type": "display_data"
    },
    {
     "data": {
      "text/plain": [
       "array([[0.1, 0.3, 0.5, 0.7, 0.9, 1.1, 1.3, 1.5, 1.7, 1.9, 2.1],\n",
       "       [0.1, 0.3, 0.5, 0.7, 0.9, 1.1, 1.3, 1.5, 1.7, 1.9, 2.1],\n",
       "       [0.1, 0.3, 0.5, 0.7, 0.9, 1.1, 1.3, 1.5, 1.7, 1.9, 2.1],\n",
       "       [0.1, 0.3, 0.5, 0.7, 0.9, 1.1, 1.3, 1.5, 1.7, 1.9, 2.1],\n",
       "       [0.1, 0.3, 0.5, 0.7, 0.9, 1.1, 1.3, 1.5, 1.7, 1.9, 2.1]])"
      ]
     },
     "metadata": {},
     "output_type": "display_data"
    }
   ],
   "source": [
    "x_lgrid = np.zeros((x_size, y_size, 2,), dtype=np.float64)\n",
    "y_lgrid = np.zeros((x_size, y_size, 2,), dtype=np.float64)\n",
    "x_lgrid[:, :, 0] = x_grid + 0.5 * a\n",
    "x_lgrid[:, :, 1] = x_grid\n",
    "y_lgrid[:, :, 0] = y_grid\n",
    "y_lgrid[:, :, 1] = y_grid + 0.5 * a\n",
    "display(x_lgrid[:, :, 0], x_lgrid[:, :, 1])\n",
    "display(y_lgrid[:, :, 0], y_lgrid[:, :, 1])"
   ]
  },
  {
   "cell_type": "markdown",
   "id": "d9f5c3ef-1f20-44b8-831c-750b18bdb743",
   "metadata": {},
   "source": [
    "Make initial values for the conductance."
   ]
  },
  {
   "cell_type": "code",
   "execution_count": 9,
   "id": "3e5d6f80-ac6e-49da-8977-a8ac5e883bbb",
   "metadata": {},
   "outputs": [
    {
     "data": {
      "text/plain": [
       "array([[1., 1., 1., 1., 1., 1., 1., 1., 1., 1., 1.],\n",
       "       [1., 1., 1., 1., 1., 1., 1., 1., 1., 1., 1.],\n",
       "       [1., 1., 1., 1., 1., 1., 1., 1., 1., 1., 1.],\n",
       "       [1., 1., 1., 1., 1., 1., 1., 1., 1., 1., 1.],\n",
       "       [1., 1., 1., 1., 1., 1., 1., 1., 1., 1., 1.]])"
      ]
     },
     "metadata": {},
     "output_type": "display_data"
    },
    {
     "data": {
      "text/plain": [
       "array([[1., 1., 1., 1., 1., 1., 1., 1., 1., 1., 1.],\n",
       "       [1., 1., 1., 1., 1., 1., 1., 1., 1., 1., 1.],\n",
       "       [1., 1., 1., 1., 1., 1., 1., 1., 1., 1., 1.],\n",
       "       [1., 1., 1., 1., 1., 1., 1., 1., 1., 1., 1.],\n",
       "       [1., 1., 1., 1., 1., 1., 1., 1., 1., 1., 1.]])"
      ]
     },
     "metadata": {},
     "output_type": "display_data"
    }
   ],
   "source": [
    "resistor_grid = np.zeros((x_size, y_size, 2,), dtype=np.float64)\n",
    "resistor_grid[:] = 1\n",
    "display(resistor_grid[:, :, 0], resistor_grid[:, :, 1])"
   ]
  },
  {
   "cell_type": "markdown",
   "id": "4ea873e3-de61-4b55-9580-af706d775bbf",
   "metadata": {},
   "source": [
    "Reduce the conductance values by cut out a square."
   ]
  },
  {
   "cell_type": "code",
   "execution_count": 10,
   "id": "50cc0148-6c30-42bb-9864-d19ab7f43d35",
   "metadata": {},
   "outputs": [],
   "source": [
    "x_lim_low, x_lim_high = 0.0, 0.4\n",
    "y_lim_low, y_lim_high = 0.3, 0.8\n",
    "# resistor_grid[(x_lim_low <= x_lgrid) & (x_lgrid <= x_lim_high) & (y_lim_low <= y_lgrid) & (y_lgrid <= y_lim_high)] = 0\n",
    "overlap_x_size = np.minimum(x_lgrid + a/2, x_lim_high) - np.maximum(x_lgrid - a/2, x_lim_low)\n",
    "overlap_y_size = np.minimum(y_lgrid + a/2, y_lim_high) - np.maximum(y_lgrid - a/2, y_lim_low)\n",
    "overlap_x_size[overlap_x_size < 0] = 0\n",
    "overlap_y_size[overlap_y_size < 0] = 0\n",
    "resistor_grid -= (overlap_x_size * overlap_y_size) / a**2"
   ]
  },
  {
   "cell_type": "code",
   "execution_count": 11,
   "id": "b7c497a9-0da3-43cb-9544-622d324b38bd",
   "metadata": {},
   "outputs": [
    {
     "data": {
      "text/plain": [
       "array([[1.00000000e+00, 1.00000000e+00, 3.33066907e-16, 3.33066907e-16,\n",
       "        5.00000000e-01, 1.00000000e+00, 1.00000000e+00, 1.00000000e+00,\n",
       "        1.00000000e+00, 1.00000000e+00, 1.00000000e+00],\n",
       "       [1.00000000e+00, 1.00000000e+00, 5.55111512e-16, 5.55111512e-16,\n",
       "        5.00000000e-01, 1.00000000e+00, 1.00000000e+00, 1.00000000e+00,\n",
       "        1.00000000e+00, 1.00000000e+00, 1.00000000e+00],\n",
       "       [1.00000000e+00, 1.00000000e+00, 1.00000000e+00, 1.00000000e+00,\n",
       "        1.00000000e+00, 1.00000000e+00, 1.00000000e+00, 1.00000000e+00,\n",
       "        1.00000000e+00, 1.00000000e+00, 1.00000000e+00],\n",
       "       [1.00000000e+00, 1.00000000e+00, 1.00000000e+00, 1.00000000e+00,\n",
       "        1.00000000e+00, 1.00000000e+00, 1.00000000e+00, 1.00000000e+00,\n",
       "        1.00000000e+00, 1.00000000e+00, 1.00000000e+00],\n",
       "       [1.00000000e+00, 1.00000000e+00, 1.00000000e+00, 1.00000000e+00,\n",
       "        1.00000000e+00, 1.00000000e+00, 1.00000000e+00, 1.00000000e+00,\n",
       "        1.00000000e+00, 1.00000000e+00, 1.00000000e+00]])"
      ]
     },
     "metadata": {},
     "output_type": "display_data"
    },
    {
     "data": {
      "text/plain": [
       "array([[1.00000000e+00, 7.50000000e-01, 5.00000000e-01, 5.00000000e-01,\n",
       "        1.00000000e+00, 1.00000000e+00, 1.00000000e+00, 1.00000000e+00,\n",
       "        1.00000000e+00, 1.00000000e+00, 1.00000000e+00],\n",
       "       [1.00000000e+00, 5.00000000e-01, 2.22044605e-16, 2.22044605e-16,\n",
       "        1.00000000e+00, 1.00000000e+00, 1.00000000e+00, 1.00000000e+00,\n",
       "        1.00000000e+00, 1.00000000e+00, 1.00000000e+00],\n",
       "       [1.00000000e+00, 7.50000000e-01, 5.00000000e-01, 5.00000000e-01,\n",
       "        1.00000000e+00, 1.00000000e+00, 1.00000000e+00, 1.00000000e+00,\n",
       "        1.00000000e+00, 1.00000000e+00, 1.00000000e+00],\n",
       "       [1.00000000e+00, 1.00000000e+00, 1.00000000e+00, 1.00000000e+00,\n",
       "        1.00000000e+00, 1.00000000e+00, 1.00000000e+00, 1.00000000e+00,\n",
       "        1.00000000e+00, 1.00000000e+00, 1.00000000e+00],\n",
       "       [1.00000000e+00, 1.00000000e+00, 1.00000000e+00, 1.00000000e+00,\n",
       "        1.00000000e+00, 1.00000000e+00, 1.00000000e+00, 1.00000000e+00,\n",
       "        1.00000000e+00, 1.00000000e+00, 1.00000000e+00]])"
      ]
     },
     "metadata": {},
     "output_type": "display_data"
    }
   ],
   "source": [
    "display(resistor_grid[:, :, 0], resistor_grid[:, :, 1])"
   ]
  },
  {
   "cell_type": "code",
   "execution_count": 12,
   "id": "a3feb199-6305-4260-8b21-8d03ecceb783",
   "metadata": {},
   "outputs": [],
   "source": [
    "def calc_resistance(resistor_grid, in_set, out_set, *, total_iter=20001, print_every_iter=1000, dt=1/4):\n",
    "    \"\"\"\n",
    "    resistor_grid.shape == (x_size, y_size, 2,)\n",
    "    current_grid[x, y, 0] == current from (x,y) to (x+1,y)\n",
    "    current_grid[x, y, 1] == current from (x,y) to (x,y+1)\n",
    "    voltage[in_set] = 1.0\n",
    "    voltage[out_set] = 0.0\n",
    "    current_grid[x, y, 0] = (voltage[x, y] - voltage[x + 1, y]) * resistor_grid[x, y, 0]\n",
    "    current_grid[x, y, 1] = (voltage[x, y] - voltage[x, y + 1]) * resistor_grid[x, y, 1]\n",
    "    #\n",
    "    Only need resistor_grid[:-1, :, 0] and resistor_grid[:, :-1, 1]\n",
    "    #\n",
    "    R = rho * L / S\n",
    "    resistor_grid = 1 / rho # value of resistor_grid is actually conductance.\n",
    "    \"\"\"\n",
    "    x_size, y_size, n_dim = resistor_grid.shape\n",
    "    voltage = np.zeros((x_size, y_size,), dtype=np.float64)\n",
    "    voltage[:] = 0.5\n",
    "    voltage[in_set] = 1.0\n",
    "    voltage[out_set] = 0.0\n",
    "    for i in range(total_iter):\n",
    "        current_grid = np.zeros((x_size, y_size, 2,), dtype=np.float64)\n",
    "        current_grid[:-1, :, 0] = (voltage[:-1, :] - voltage[1:, :]) * resistor_grid[:-1, :, 0]\n",
    "        current_grid[:, :-1, 1] = (voltage[:, :-1] - voltage[:, 1:]) * resistor_grid[:, :-1, 1]\n",
    "        charge_change = np.zeros((x_size, y_size,), dtype=np.float64)\n",
    "        charge_change[:-1, :] -= dt * current_grid[:-1, :, 0]\n",
    "        charge_change[1:, :] += dt * current_grid[:-1, :, 0]\n",
    "        charge_change[:, :-1] -= dt * current_grid[:, :-1, 1]\n",
    "        charge_change[:, 1:] += dt * current_grid[:, :-1, 1]\n",
    "        total_current_in = np.sum(charge_change[in_set]) / dt\n",
    "        total_current_out = np.sum(charge_change[out_set]) / dt\n",
    "        resistance_from_in = -1.0 / total_current_in\n",
    "        resistance_from_out = 1.0 / total_current_out\n",
    "        charge_change[in_set] = 0.0\n",
    "        charge_change[out_set] = 0.0\n",
    "        voltage += charge_change\n",
    "        if i % print_every_iter == 0:\n",
    "            print(i, np.linalg.norm(charge_change), resistance_from_in, resistance_from_out)\n",
    "            # display(voltage)\n",
    "    resistance = (resistance_from_in + resistance_from_out) / 2\n",
    "    return resistance"
   ]
  },
  {
   "cell_type": "code",
   "execution_count": 13,
   "id": "cd20da79-0990-4e3e-a909-65e1a465cabc",
   "metadata": {},
   "outputs": [
    {
     "name": "stdout",
     "output_type": "stream",
     "text": [
      "0 0.39528470752104744 0.4 0.4\n",
      "1000 2.991293220029535e-12 2.443866159556622 2.4438661591224093\n",
      "2000 1.6733576151097032e-16 2.4438661593735804 2.4438661593735667\n",
      "3000 1.6733576151097032e-16 2.4438661593735804 2.4438661593735667\n",
      "4000 1.6733576151097032e-16 2.4438661593735804 2.4438661593735667\n",
      "5000 1.6733576151097032e-16 2.4438661593735804 2.4438661593735667\n",
      "6000 1.6733576151097032e-16 2.4438661593735804 2.4438661593735667\n",
      "7000 1.6733576151097032e-16 2.4438661593735804 2.4438661593735667\n",
      "8000 1.6733576151097032e-16 2.4438661593735804 2.4438661593735667\n",
      "9000 1.6733576151097032e-16 2.4438661593735804 2.4438661593735667\n",
      "10000 1.6733576151097032e-16 2.4438661593735804 2.4438661593735667\n",
      "11000 1.6733576151097032e-16 2.4438661593735804 2.4438661593735667\n",
      "12000 1.6733576151097032e-16 2.4438661593735804 2.4438661593735667\n",
      "13000 1.6733576151097032e-16 2.4438661593735804 2.4438661593735667\n",
      "14000 1.6733576151097032e-16 2.4438661593735804 2.4438661593735667\n",
      "15000 1.6733576151097032e-16 2.4438661593735804 2.4438661593735667\n",
      "16000 1.6733576151097032e-16 2.4438661593735804 2.4438661593735667\n",
      "17000 1.6733576151097032e-16 2.4438661593735804 2.4438661593735667\n",
      "18000 1.6733576151097032e-16 2.4438661593735804 2.4438661593735667\n",
      "19000 1.6733576151097032e-16 2.4438661593735804 2.4438661593735667\n",
      "20000 1.6733576151097032e-16 2.4438661593735804 2.4438661593735667\n",
      "CPU times: user 581 ms, sys: 134 ms, total: 716 ms\n",
      "Wall time: 567 ms\n"
     ]
    },
    {
     "data": {
      "text/plain": [
       "2.4438661593735738"
      ]
     },
     "execution_count": 13,
     "metadata": {},
     "output_type": "execute_result"
    }
   ],
   "source": [
    "%%time\n",
    "calc_resistance(resistor_grid, in_set, out_set)"
   ]
  },
  {
   "cell_type": "code",
   "execution_count": null,
   "id": "e78a06d6-fcfd-41f7-ba11-6d70ddbabdb4",
   "metadata": {},
   "outputs": [],
   "source": []
  },
  {
   "cell_type": "code",
   "execution_count": null,
   "id": "cea104d7-2069-4914-92c4-8ac24218973a",
   "metadata": {},
   "outputs": [],
   "source": []
  }
 ],
 "metadata": {
  "kernelspec": {
   "display_name": "Python 3 (ipykernel)",
   "language": "python",
   "name": "python3"
  },
  "language_info": {
   "codemirror_mode": {
    "name": "ipython",
    "version": 3
   },
   "file_extension": ".py",
   "mimetype": "text/x-python",
   "name": "python",
   "nbconvert_exporter": "python",
   "pygments_lexer": "ipython3",
   "version": "3.11.5"
  }
 },
 "nbformat": 4,
 "nbformat_minor": 5
}
