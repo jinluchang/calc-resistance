{
 "cells": [
  {
   "cell_type": "code",
   "execution_count": 1,
   "id": "87aa52f1-f0ab-4491-8267-a02786cf4085",
   "metadata": {},
   "outputs": [],
   "source": [
    "import numpy as np"
   ]
  },
  {
   "cell_type": "code",
   "execution_count": 2,
   "id": "998a6243-dc8c-4f41-93da-39c5deff2843",
   "metadata": {},
   "outputs": [],
   "source": [
    "x_size, y_size = 5, 11\n",
    "x_arr = np.arange(x_size)\n",
    "y_arr = np.arange(y_size)\n",
    "grid = np.zeros((x_size, y_size,), dtype=np.float64)\n",
    "x_grid = grid.copy()\n",
    "y_grid = grid.copy()\n",
    "x_grid[x_arr, :] = x_arr[:, None]\n",
    "y_grid[:, y_arr] = y_arr"
   ]
  },
  {
   "cell_type": "code",
   "execution_count": 3,
   "id": "2d6e9df1-8e4f-4fe6-94d9-af45be44dd9e",
   "metadata": {},
   "outputs": [
    {
     "data": {
      "text/plain": [
       "array([[ True, False, False, False, False, False, False, False, False,\n",
       "        False, False],\n",
       "       [ True, False, False, False, False, False, False, False, False,\n",
       "        False, False],\n",
       "       [ True, False, False, False, False, False, False, False, False,\n",
       "        False, False],\n",
       "       [ True, False, False, False, False, False, False, False, False,\n",
       "        False, False],\n",
       "       [ True, False, False, False, False, False, False, False, False,\n",
       "        False, False]])"
      ]
     },
     "metadata": {},
     "output_type": "display_data"
    },
    {
     "data": {
      "text/plain": [
       "array([[False, False, False, False, False, False, False, False, False,\n",
       "        False,  True],\n",
       "       [False, False, False, False, False, False, False, False, False,\n",
       "        False,  True],\n",
       "       [False, False, False, False, False, False, False, False, False,\n",
       "        False,  True],\n",
       "       [False, False, False, False, False, False, False, False, False,\n",
       "        False,  True],\n",
       "       [False, False, False, False, False, False, False, False, False,\n",
       "        False,  True]])"
      ]
     },
     "metadata": {},
     "output_type": "display_data"
    }
   ],
   "source": [
    "in_set = y_grid == 0\n",
    "out_set = y_grid == (y_size - 1)\n",
    "display(in_set, out_set)"
   ]
  },
  {
   "cell_type": "code",
   "execution_count": 4,
   "id": "3e5d6f80-ac6e-49da-8977-a8ac5e883bbb",
   "metadata": {},
   "outputs": [
    {
     "data": {
      "text/plain": [
       "array([[1., 1., 1., 1., 1., 1., 1., 1., 1., 1., 1.],\n",
       "       [1., 1., 1., 1., 1., 1., 1., 1., 1., 1., 1.],\n",
       "       [1., 1., 1., 1., 1., 1., 1., 1., 1., 1., 1.],\n",
       "       [1., 1., 1., 1., 1., 1., 1., 1., 1., 1., 1.],\n",
       "       [1., 1., 1., 1., 1., 1., 1., 1., 1., 1., 1.]])"
      ]
     },
     "metadata": {},
     "output_type": "display_data"
    },
    {
     "data": {
      "text/plain": [
       "array([[1., 1., 1., 1., 1., 1., 1., 1., 1., 1., 1.],\n",
       "       [1., 1., 1., 1., 1., 1., 1., 1., 1., 1., 1.],\n",
       "       [1., 1., 1., 1., 1., 1., 1., 1., 1., 1., 1.],\n",
       "       [1., 1., 1., 1., 1., 1., 1., 1., 1., 1., 1.],\n",
       "       [1., 1., 1., 1., 1., 1., 1., 1., 1., 1., 1.]])"
      ]
     },
     "metadata": {},
     "output_type": "display_data"
    }
   ],
   "source": [
    "resistor_grid = np.zeros((x_size, y_size, 2,), dtype=np.float64)\n",
    "resistor_grid[:] = 1\n",
    "display(resistor_grid[:, :, 0], resistor_grid[:, :, 1])"
   ]
  },
  {
   "cell_type": "code",
   "execution_count": 5,
   "id": "50cc0148-6c30-42bb-9864-d19ab7f43d35",
   "metadata": {},
   "outputs": [],
   "source": [
    "resistor_grid[:2, 4:7] = 0"
   ]
  },
  {
   "cell_type": "code",
   "execution_count": 6,
   "id": "b7c497a9-0da3-43cb-9544-622d324b38bd",
   "metadata": {},
   "outputs": [
    {
     "data": {
      "text/plain": [
       "array([[1., 1., 1., 1., 0., 0., 0., 1., 1., 1., 1.],\n",
       "       [1., 1., 1., 1., 0., 0., 0., 1., 1., 1., 1.],\n",
       "       [1., 1., 1., 1., 1., 1., 1., 1., 1., 1., 1.],\n",
       "       [1., 1., 1., 1., 1., 1., 1., 1., 1., 1., 1.],\n",
       "       [1., 1., 1., 1., 1., 1., 1., 1., 1., 1., 1.]])"
      ]
     },
     "metadata": {},
     "output_type": "display_data"
    },
    {
     "data": {
      "text/plain": [
       "array([[1., 1., 1., 1., 0., 0., 0., 1., 1., 1., 1.],\n",
       "       [1., 1., 1., 1., 0., 0., 0., 1., 1., 1., 1.],\n",
       "       [1., 1., 1., 1., 1., 1., 1., 1., 1., 1., 1.],\n",
       "       [1., 1., 1., 1., 1., 1., 1., 1., 1., 1., 1.],\n",
       "       [1., 1., 1., 1., 1., 1., 1., 1., 1., 1., 1.]])"
      ]
     },
     "metadata": {},
     "output_type": "display_data"
    }
   ],
   "source": [
    "display(resistor_grid[:, :, 0], resistor_grid[:, :, 1])"
   ]
  },
  {
   "cell_type": "code",
   "execution_count": 7,
   "id": "a3feb199-6305-4260-8b21-8d03ecceb783",
   "metadata": {},
   "outputs": [],
   "source": [
    "def calc_resistance(resistor_grid, in_set, out_set, *, total_iter=101, print_every_iter=10, dt=1/4):\n",
    "    \"\"\"\n",
    "    resistor_grid.shape == (x_size, y_size, 2,)\n",
    "    current_grid[x, y, 0] == current from (x,y) to (x+1,y)\n",
    "    current_grid[x, y, 1] == current from (x,y) to (x,y+1)\n",
    "    voltage[in_set] = 1.0\n",
    "    voltage[out_set] = 0.0\n",
    "    current_grid[x, y, 0] = (voltage[x, y] - voltage[x + 1, y]) * resistor_grid[x, y, 0]\n",
    "    current_grid[x, y, 1] = (voltage[x, y] - voltage[x, y + 1]) * resistor_grid[x, y, 1]\n",
    "    #\n",
    "    Only need resistor_grid[:-1, :, 0] and resistor_grid[:, :-1, 1]\n",
    "    #\n",
    "    R = rho * L / S\n",
    "    resistor_grid = 1 / rho # value of resistor_grid is actually conductance.\n",
    "    \"\"\"\n",
    "    x_size, y_size, n_dim = resistor_grid.shape\n",
    "    voltage = np.zeros((x_size, y_size,), dtype=np.float64)\n",
    "    voltage[:] = 0.5\n",
    "    voltage[in_set] = 1.0\n",
    "    voltage[out_set] = 0.0\n",
    "    for i in range(total_iter):\n",
    "        current_grid = np.zeros((x_size, y_size, 2,), dtype=np.float64)\n",
    "        current_grid[:-1, :, 0] = (voltage[:-1, :] - voltage[1:, :]) * resistor_grid[:-1, :, 0]\n",
    "        current_grid[:, :-1, 1] = (voltage[:, :-1] - voltage[:, 1:]) * resistor_grid[:, :-1, 1]\n",
    "        charge_change = np.zeros((x_size, y_size,), dtype=np.float64)\n",
    "        charge_change[:-1, :] -= dt * current_grid[:-1, :, 0]\n",
    "        charge_change[1:, :] += dt * current_grid[:-1, :, 0]\n",
    "        charge_change[:, :-1] -= dt * current_grid[:, :-1, 1]\n",
    "        charge_change[:, 1:] += dt * current_grid[:, :-1, 1]\n",
    "        total_current_in = np.sum(charge_change[in_set]) / dt\n",
    "        total_current_out = np.sum(charge_change[out_set]) / dt\n",
    "        resistance_from_in = -1.0 / total_current_in\n",
    "        resistance_from_out = 1.0 / total_current_out\n",
    "        charge_change[in_set] = 0.0\n",
    "        charge_change[out_set] = 0.0\n",
    "        voltage += charge_change\n",
    "        if i % print_every_iter == 0:\n",
    "            print(i, np.linalg.norm(charge_change), resistance_from_in, resistance_from_out)\n",
    "            # display(voltage)\n",
    "    resistance = (resistance_from_in + resistance_from_out) / 2\n",
    "    return resistance"
   ]
  },
  {
   "cell_type": "code",
   "execution_count": 8,
   "id": "cd20da79-0990-4e3e-a909-65e1a465cabc",
   "metadata": {},
   "outputs": [
    {
     "name": "stdout",
     "output_type": "stream",
     "text": [
      "0 0.39528470752104744 0.4 0.4\n",
      "10 0.06154616263877693 1.1894118821404913 1.1989137953704816\n",
      "20 0.03092626110581347 1.6449793709472385 1.744136965206371\n",
      "30 0.01647444917012824 1.9959468316226796 2.1892711899093125\n",
      "40 0.009026049179777803 2.254189244416654 2.4867794716864244\n",
      "50 0.00505238619214909 2.4322911693871148 2.6571813297983633\n",
      "60 0.0028990060402877007 2.5501488539795 2.7446852283382954\n",
      "70 0.0017209839954941974 2.626740447333319 2.785379836419328\n",
      "80 0.0010684834283691276 2.6764647831461845 2.801760021134167\n",
      "90 0.0006980654252486939 2.7090736886449083 2.8062980662896466\n",
      "100 0.00047853994401356225 2.730811117250959 2.8055026556059546\n"
     ]
    },
    {
     "data": {
      "text/plain": [
       "2.7681568864284567"
      ]
     },
     "execution_count": 8,
     "metadata": {},
     "output_type": "execute_result"
    }
   ],
   "source": [
    "calc_resistance(resistor_grid, in_set, out_set)"
   ]
  },
  {
   "cell_type": "code",
   "execution_count": null,
   "id": "f69662d1-de7f-4e93-87bd-7efce8924529",
   "metadata": {},
   "outputs": [],
   "source": []
  },
  {
   "cell_type": "code",
   "execution_count": null,
   "id": "3f01d924-ac74-4a54-9ce6-2b930dd69323",
   "metadata": {},
   "outputs": [],
   "source": []
  }
 ],
 "metadata": {
  "kernelspec": {
   "display_name": "Python 3 (ipykernel)",
   "language": "python",
   "name": "python3"
  },
  "language_info": {
   "codemirror_mode": {
    "name": "ipython",
    "version": 3
   },
   "file_extension": ".py",
   "mimetype": "text/x-python",
   "name": "python",
   "nbconvert_exporter": "python",
   "pygments_lexer": "ipython3",
   "version": "3.11.5"
  }
 },
 "nbformat": 4,
 "nbformat_minor": 5
}
